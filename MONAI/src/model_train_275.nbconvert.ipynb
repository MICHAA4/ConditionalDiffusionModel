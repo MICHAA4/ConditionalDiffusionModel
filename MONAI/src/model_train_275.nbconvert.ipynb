{
 "cells": [
  {
   "cell_type": "markdown",
   "id": "21394f42-5fbe-4b2e-8bb3-cb4d6defae51",
   "metadata": {},
   "source": [
    "## Setup Environment"
   ]
  },
  {
   "cell_type": "code",
   "execution_count": 1,
   "id": "fe2b6e6a-2aad-4770-9fbe-34fd5e1dc972",
   "metadata": {
    "execution": {
     "iopub.execute_input": "2024-06-15T01:18:53.519673Z",
     "iopub.status.busy": "2024-06-15T01:18:53.519197Z",
     "iopub.status.idle": "2024-06-15T01:19:05.636537Z",
     "shell.execute_reply": "2024-06-15T01:19:05.635418Z"
    }
   },
   "outputs": [],
   "source": [
    "!python -c \"import monai\" || pip install -q \"monai-weekly[tqdm]\"\n",
    "!python -c \"import matplotlib\" || pip install -q matplotlib\n",
    "%matplotlib inline"
   ]
  },
  {
   "cell_type": "markdown",
   "id": "d1f0a006-5891-463e-ad53-f1c350c2989f",
   "metadata": {},
   "source": [
    "## Setup Imports"
   ]
  },
  {
   "cell_type": "code",
   "execution_count": 2,
   "id": "891f2921-5816-4cf5-858c-e516f543a956",
   "metadata": {
    "execution": {
     "iopub.execute_input": "2024-06-15T01:19:05.640814Z",
     "iopub.status.busy": "2024-06-15T01:19:05.640519Z",
     "iopub.status.idle": "2024-06-15T01:19:10.981891Z",
     "shell.execute_reply": "2024-06-15T01:19:10.980994Z"
    }
   },
   "outputs": [
    {
     "name": "stdout",
     "output_type": "stream",
     "text": [
      "MONAI version: 1.3.1rc2+1.g87152d10\n",
      "Numpy version: 1.26.4\n",
      "Pytorch version: 2.2.2+cu121\n",
      "MONAI flags: HAS_EXT = False, USE_COMPILED = False, USE_META_DICT = False\n",
      "MONAI rev id: 87152d106557bdc37de0ee923be4e9a25c4c003c\n",
      "MONAI __file__: /data/<username>/jupyter/MONAI/monai/__init__.py\n",
      "\n",
      "Optional dependencies:\n",
      "Pytorch Ignite version: 0.4.11\n",
      "ITK version: 5.3.0\n",
      "Nibabel version: 5.2.1\n",
      "scikit-image version: 0.22.0\n",
      "scipy version: 1.11.4\n",
      "Pillow version: 10.2.0\n",
      "Tensorboard version: 2.16.2\n",
      "gdown version: 4.7.3\n",
      "TorchVision version: 0.17.2+cu121\n",
      "tqdm version: 4.65.0\n",
      "lmdb version: 1.4.1\n",
      "psutil version: 5.9.0\n",
      "pandas version: 2.1.4\n",
      "einops version: 0.7.0\n",
      "transformers version: 4.39.3\n",
      "mlflow version: 2.11.3\n",
      "pynrrd version: 1.0.0\n",
      "clearml version: 1.15.0\n",
      "\n",
      "For details about installing the optional dependencies, please visit:\n",
      "    https://docs.monai.io/en/latest/installation.html#installing-the-recommended-dependencies\n",
      "\n"
     ]
    }
   ],
   "source": [
    "import os\n",
    "import csv\n",
    "import sys\n",
    "import time\n",
    "import random\n",
    "import shutil\n",
    "import tempfile\n",
    "import numpy as np\n",
    "import pandas as pd\n",
    "import nibabel as nib\n",
    "import matplotlib.pyplot as plt\n",
    "\n",
    "import torch\n",
    "import torch.nn.functional as F\n",
    "from torch.cuda.amp import GradScaler, autocast\n",
    "\n",
    "from monai.transforms import (\n",
    "    Compose,\n",
    "    Lambdad,\n",
    "    Resized,\n",
    "    Randomizable,\n",
    "    EnsureChannelFirstd,\n",
    "    ScaleIntensityRanged\n",
    ")\n",
    "from monai.config import print_config\n",
    "from monai.utils import first, set_determinism\n",
    "from monai.data import Dataset, CacheDataset, DataLoader\n",
    "\n",
    "from PIL import Image\n",
    "from tqdm import tqdm\n",
    "\n",
    "from generative.inferers import DiffusionInferer\n",
    "from generative.networks.nets import DiffusionModelUNet\n",
    "from generative.networks.schedulers import DDPMScheduler\n",
    "\n",
    "print_config()"
   ]
  },
  {
   "cell_type": "markdown",
   "id": "ed74f635-60e9-4b07-aa6d-d4df84aec3da",
   "metadata": {},
   "source": [
    "## Setup Data Directory"
   ]
  },
  {
   "cell_type": "code",
   "execution_count": 3,
   "id": "9caeb808-a81c-4383-ba04-3eaad4e87d2c",
   "metadata": {
    "execution": {
     "iopub.execute_input": "2024-06-15T01:19:10.993382Z",
     "iopub.status.busy": "2024-06-15T01:19:10.991880Z",
     "iopub.status.idle": "2024-06-15T01:19:10.999619Z",
     "shell.execute_reply": "2024-06-15T01:19:10.998639Z"
    }
   },
   "outputs": [
    {
     "name": "stdout",
     "output_type": "stream",
     "text": [
      "/tmp/tmpk9_ha6h8\n"
     ]
    }
   ],
   "source": [
    "directory = os.environ.get(\"MONAI_DATA_DIRECTORY\")\n",
    "root_dir = tempfile.mkdtemp() if directory is None else directory\n",
    "print(root_dir)"
   ]
  },
  {
   "cell_type": "markdown",
   "id": "e1fa21e8-5b14-4f16-bf08-6e2cf4dbbfbc",
   "metadata": {},
   "source": [
    "## Set Deterministic Training for Reproducibility"
   ]
  },
  {
   "cell_type": "code",
   "execution_count": 4,
   "id": "a795a093-2baa-49ac-bfc7-fd3ae66bd94d",
   "metadata": {
    "execution": {
     "iopub.execute_input": "2024-06-15T01:19:11.002901Z",
     "iopub.status.busy": "2024-06-15T01:19:11.002479Z",
     "iopub.status.idle": "2024-06-15T01:19:11.012597Z",
     "shell.execute_reply": "2024-06-15T01:19:11.011555Z"
    }
   },
   "outputs": [],
   "source": [
    "set_determinism(42)"
   ]
  },
  {
   "cell_type": "markdown",
   "id": "c529070e-78d7-40e7-af20-6380e8c08463",
   "metadata": {},
   "source": [
    "## CamcanDataset"
   ]
  },
  {
   "cell_type": "code",
   "execution_count": 5,
   "id": "9fa9eccd-1d9c-444d-9581-021be560058d",
   "metadata": {
    "execution": {
     "iopub.execute_input": "2024-06-15T01:19:11.017286Z",
     "iopub.status.busy": "2024-06-15T01:19:11.016878Z",
     "iopub.status.idle": "2024-06-15T01:19:11.037980Z",
     "shell.execute_reply": "2024-06-15T01:19:11.037040Z"
    }
   },
   "outputs": [],
   "source": [
    "class CamcanDataset(Randomizable, CacheDataset):\n",
    "    def __init__(\n",
    "        self,\n",
    "        root_dir,\n",
    "        csv_file,\n",
    "        section,\n",
    "        transform=None,\n",
    "        seed=0,\n",
    "        val_frac=0.2,\n",
    "        test_frac=0.2,\n",
    "        cache_num=sys.maxsize,\n",
    "        cache_rate=1.0,\n",
    "        num_workers=0,\n",
    "        progress: bool = True,\n",
    "        condition_prob = 0,\n",
    "    ) -> None:\n",
    "        if not os.path.isdir(root_dir):\n",
    "            raise ValueError(\"Root directory root_dir must be a directory.\")\n",
    "        self.root_dir = root_dir\n",
    "        self.csv_file = csv_file\n",
    "        self.section = section\n",
    "        self.val_frac = val_frac\n",
    "        self.test_frac = test_frac\n",
    "        self.condition_prob = condition_prob\n",
    "        self.set_random_state(seed=seed)\n",
    "\n",
    "        data = self._generate_data_list()\n",
    "\n",
    "        CacheDataset.__init__(\n",
    "            self,\n",
    "            data=data,\n",
    "            transform=transform,\n",
    "            cache_num=cache_num,\n",
    "            cache_rate=cache_rate,\n",
    "            num_workers=num_workers,\n",
    "            progress=progress,\n",
    "        )\n",
    "\n",
    "    def randomize(self, data: np.ndarray) -> None:\n",
    "        self.R.shuffle(data)\n",
    "\n",
    "    def _generate_data_list(self):\n",
    "        datalist = []\n",
    "        with open(self.csv_file, mode='r') as file:\n",
    "            reader = csv.DictReader(file)\n",
    "            for row in reader:\n",
    "                image_path = os.path.join(self.root_dir, f\"sub-{row['Subject']}_defaced_T1.nii.gz\")\n",
    "                if not os.path.exists(image_path):\n",
    "                    continue\n",
    "                img = nib.load(image_path)\n",
    "                img_data = img.get_fdata()\n",
    "                for slice_idx in range(img_data.shape[2]//2 - 20, img_data.shape[2]//2 + 20):  # Assuming axial slices\n",
    "                    slice_data = img_data[:,:,slice_idx]\n",
    "                    condition = np.array([\n",
    "                        [int(row['Age'])],\n",
    "                        [int(row['Sex'])],\n",
    "                        [slice_idx]\n",
    "                    ]).reshape((1,3)).astype('float32')\n",
    "                    datalist.append({\n",
    "                        \"image\": slice_data,\n",
    "                        \"condition\": condition\n",
    "                    })\n",
    "        \n",
    "        length = len(datalist)\n",
    "        indices = np.arange(length)\n",
    "        self.randomize(indices)\n",
    "\n",
    "        # train, validation, test split\n",
    "        test_length = int(length * self.test_frac)\n",
    "        val_length = int(length * self.val_frac)\n",
    "        if self.section == \"test\":\n",
    "            section_indices = indices[:test_length]\n",
    "        elif self.section == \"validation\":\n",
    "            section_indices = indices[test_length : test_length + val_length]\n",
    "        elif self.section == \"training\":\n",
    "            section_indices = indices[test_length + val_length :]\n",
    "        else:\n",
    "            raise ValueError(\n",
    "                f'Unsupported section: {self.section}, available options are [\"training\", \"validation\", \"test\"].'\n",
    "            )\n",
    "        return [datalist[i] for i in section_indices]\n",
    "\n",
    "    def __getitem__(self, index):\n",
    "        sample = self.data[index]\n",
    "\n",
    "        if random.random() < self.condition_prob:\n",
    "            sample[\"condition\"] = np.array([[-1, -1, -1]])\n",
    "        if self.transform:\n",
    "            sample = self.transform(sample)\n",
    "        return sample\n"
   ]
  },
  {
   "cell_type": "markdown",
   "id": "56ec73a0-5dc4-4dec-b93f-9b1347a3696c",
   "metadata": {},
   "source": [
    "## Setup CamcanDataset and Training and Validation DataLoader"
   ]
  },
  {
   "cell_type": "code",
   "execution_count": 6,
   "id": "58c7bb11-05aa-44ba-87a9-6556d9272095",
   "metadata": {
    "execution": {
     "iopub.execute_input": "2024-06-15T01:19:11.041939Z",
     "iopub.status.busy": "2024-06-15T01:19:11.041582Z",
     "iopub.status.idle": "2024-06-15T01:19:39.315877Z",
     "shell.execute_reply": "2024-06-15T01:19:39.314869Z"
    }
   },
   "outputs": [
    {
     "name": "stderr",
     "output_type": "stream",
     "text": [
      "Loading dataset: 100%|██████████| 15480/15480 [00:22<00:00, 689.53it/s]\n"
     ]
    }
   ],
   "source": [
    "# Usage example\n",
    "data_dir = \"./dataset_camcan_sy\"\n",
    "csv_file = \"./phenotype.csv\"\n",
    "\n",
    "train_transforms = Compose(\n",
    "    [\n",
    "        EnsureChannelFirstd(keys=[\"image\"], channel_dim='no_channel'),\n",
    "        ScaleIntensityRanged(keys=[\"image\"], a_min=0.0, a_max=255.0, b_min=0.0, b_max=1.0),\n",
    "        Lambdad(keys=[\"condition\"], func=lambda x: torch.tensor(x, dtype=torch.float32)),\n",
    "        Resized(keys=[\"image\"], spatial_size=(96,128)),\n",
    "    ])\n",
    "\n",
    "\n",
    "# Training DataLoader\n",
    "train_ds = CamcanDataset(root_dir=data_dir, csv_file=csv_file, transform=train_transforms, section=\"training\", condition_prob=0.2)\n",
    "train_loader = DataLoader(train_ds, batch_size=8, shuffle=True, num_workers=8, persistent_workers=True)\n"
   ]
  },
  {
   "cell_type": "code",
   "execution_count": 7,
   "id": "b363c2c4-892c-4740-86a5-d6b438031e35",
   "metadata": {
    "execution": {
     "iopub.execute_input": "2024-06-15T01:19:39.318705Z",
     "iopub.status.busy": "2024-06-15T01:19:39.318212Z",
     "iopub.status.idle": "2024-06-15T01:19:50.728076Z",
     "shell.execute_reply": "2024-06-15T01:19:50.727120Z"
    }
   },
   "outputs": [
    {
     "name": "stderr",
     "output_type": "stream",
     "text": [
      "Loading dataset: 100%|██████████| 5160/5160 [00:07<00:00, 680.73it/s]\n"
     ]
    }
   ],
   "source": [
    "val_transforms = Compose(\n",
    "    [\n",
    "        EnsureChannelFirstd(keys=[\"image\"], channel_dim='no_channel'),\n",
    "        ScaleIntensityRanged(keys=[\"image\"], a_min=0.0, a_max=255.0, b_min=0.0, b_max=1.0),\n",
    "        Lambdad(keys=[\"condition\"], func=lambda x: torch.tensor(x, dtype=torch.float32)),\n",
    "        Resized(keys=[\"image\"], spatial_size=(96,128)),\n",
    "    ]\n",
    ")\n",
    "\n",
    "# Validation DataLoader\n",
    "val_ds = CamcanDataset(root_dir=data_dir, csv_file=csv_file, transform=val_transforms, section=\"validation\")\n",
    "val_loader = DataLoader(val_ds, batch_size=8, shuffle=False, num_workers=8, persistent_workers=True)"
   ]
  },
  {
   "cell_type": "markdown",
   "id": "14178781-384b-4154-82ef-86fc0bd89045",
   "metadata": {
    "jp-MarkdownHeadingCollapsed": true
   },
   "source": [
    "## Check Conditions are in place properly (age, slice_number)"
   ]
  },
  {
   "cell_type": "code",
   "execution_count": 8,
   "id": "679dcb02-fe88-4bcc-984a-7a18d5e65b59",
   "metadata": {
    "execution": {
     "iopub.execute_input": "2024-06-15T01:19:50.731873Z",
     "iopub.status.busy": "2024-06-15T01:19:50.731597Z",
     "iopub.status.idle": "2024-06-15T01:19:50.737799Z",
     "shell.execute_reply": "2024-06-15T01:19:50.736878Z"
    }
   },
   "outputs": [
    {
     "data": {
      "text/plain": [
       "'\\n# Check Conditions are in place properly (age, slice_number)\\ndf = pd.DataFrame(columns=[\\'age\\', \\'sex\\', \\'slice_number\\'])\\nfor data in train_loader:\\n    data_np = data[\\'condition\\'].numpy()\\n    data_np = data_np.reshape(-1,3)\\n    df2 = pd.DataFrame(data_np, columns=[\\'age\\', \\'sex\\', \\'slice_number\\'])\\n    df = pd.concat([df, df2], ignore_index=True)\\ndf.to_csv(\"train_loader.csv\", index=False)\\n'"
      ]
     },
     "execution_count": 8,
     "metadata": {},
     "output_type": "execute_result"
    }
   ],
   "source": [
    "'''\n",
    "# Check Conditions are in place properly (age, slice_number)\n",
    "df = pd.DataFrame(columns=['age', 'sex', 'slice_number'])\n",
    "for data in train_loader:\n",
    "    data_np = data['condition'].numpy()\n",
    "    data_np = data_np.reshape(-1,3)\n",
    "    df2 = pd.DataFrame(data_np, columns=['age', 'sex', 'slice_number'])\n",
    "    df = pd.concat([df, df2], ignore_index=True)\n",
    "df.to_csv(\"train_loader.csv\", index=False)\n",
    "'''"
   ]
  },
  {
   "cell_type": "markdown",
   "id": "60e61b5c-69a6-4a33-b039-ab24559c4315",
   "metadata": {},
   "source": [
    "## Visualisation of Training Images"
   ]
  },
  {
   "cell_type": "code",
   "execution_count": 9,
   "id": "ded352fa-a0be-49f0-aaf0-4925af58b075",
   "metadata": {
    "execution": {
     "iopub.execute_input": "2024-06-15T01:19:50.742080Z",
     "iopub.status.busy": "2024-06-15T01:19:50.741832Z",
     "iopub.status.idle": "2024-06-15T01:19:52.964766Z",
     "shell.execute_reply": "2024-06-15T01:19:52.963610Z"
    }
   },
   "outputs": [
    {
     "name": "stdout",
     "output_type": "stream",
     "text": [
      "batch shape: torch.Size([8, 1, 96, 128])\n",
      "metatensor([[[76.,  1., 28.]],\n",
      "\n",
      "        [[88.,  2., 44.]],\n",
      "\n",
      "        [[36.,  1., 62.]],\n",
      "\n",
      "        [[32.,  2., 51.]],\n",
      "\n",
      "        [[84.,  1., 50.]],\n",
      "\n",
      "        [[42.,  2., 29.]],\n",
      "\n",
      "        [[75.,  1., 59.]],\n",
      "\n",
      "        [[30.,  1., 64.]]])\n",
      "torch.Size([8, 1, 3])\n"
     ]
    },
    {
     "data": {
      "image/png": "[encoded data removed]",
      "text/plain": [
       "<Figure size 1200x600 with 1 Axes>"
      ]
     },
     "metadata": {},
     "output_type": "display_data"
    }
   ],
   "source": [
    "check_data = next(iter(train_loader))\n",
    "print(f\"batch shape: {check_data['image'].shape}\")\n",
    "first_image = check_data['image'][0, 0]  # Accessing the first image from the batch\n",
    "condition = check_data['condition'][0] # Accessing the condition for the first image\n",
    "print(check_data['condition'])\n",
    "print(check_data['condition'].shape)\n",
    "\n",
    "age = condition[0, 0]\n",
    "sex = condition[0, 1]\n",
    "slice_number = condition[0, 2]\n",
    "\n",
    "# Plot the first image\n",
    "plt.figure(figsize=(12, 6))\n",
    "plt.imshow(first_image, cmap='gray')\n",
    "plt.title(f\"Age: {age}, Sex: {sex}, Slice Number: {slice_number}\")\n",
    "plt.axis('off')\n",
    "plt.tight_layout()\n",
    "plt.show()"
   ]
  },
  {
   "cell_type": "markdown",
   "id": "8bb88a2d-000b-409a-b698-6f27ad7a1277",
   "metadata": {},
   "source": [
    "## Define Network, Scheduler, Optimizer and Inferer"
   ]
  },
  {
   "cell_type": "code",
   "execution_count": 10,
   "id": "14c8ea30-9b88-4152-b3bc-51019c1c00e9",
   "metadata": {
    "execution": {
     "iopub.execute_input": "2024-06-15T01:19:52.968445Z",
     "iopub.status.busy": "2024-06-15T01:19:52.967925Z",
     "iopub.status.idle": "2024-06-15T01:19:54.268048Z",
     "shell.execute_reply": "2024-06-15T01:19:54.267277Z"
    }
   },
   "outputs": [],
   "source": [
    "device = torch.device(\"cuda\")\n",
    "\n",
    "model = DiffusionModelUNet(\n",
    "    spatial_dims=2,\n",
    "    in_channels=1,\n",
    "    out_channels=1,\n",
    "    num_channels=(256, 256, 512),\n",
    "    attention_levels=(False, False, True),\n",
    "    num_res_blocks=2,\n",
    "    num_head_channels=(0, 0, 512),\n",
    "    with_conditioning=True,\n",
    "    cross_attention_dim=3,\n",
    ")\n",
    "model.to(device)\n",
    "\n",
    "scheduler = DDPMScheduler(num_train_timesteps=1000)\n",
    "\n",
    "optimizer = torch.optim.Adam(params=model.parameters(), lr=2.5e-5)\n",
    "\n",
    "inferer = DiffusionInferer(scheduler)"
   ]
  },
  {
   "cell_type": "markdown",
   "id": "8608f0dc-71bd-4ba0-93e9-1e2ed9bcff93",
   "metadata": {},
   "source": [
    "## Pretrained Model"
   ]
  },
  {
   "cell_type": "code",
   "execution_count": 11,
   "id": "c52d404c-7d08-4e5e-8303-6ebdbcb71d17",
   "metadata": {
    "execution": {
     "iopub.execute_input": "2024-06-15T01:19:54.271328Z",
     "iopub.status.busy": "2024-06-15T01:19:54.271109Z",
     "iopub.status.idle": "2024-06-15T01:19:55.476859Z",
     "shell.execute_reply": "2024-06-15T01:19:55.476202Z"
    }
   },
   "outputs": [
    {
     "name": "stdout",
     "output_type": "stream",
     "text": [
      "199\n"
     ]
    }
   ],
   "source": [
    "# Path to the pretrained model\n",
    "pretrained_model_path = 'pretrained_model_200.pth'\n",
    "\n",
    "# Load the state dictionary\n",
    "state_dict = torch.load(pretrained_model_path, map_location=device)\n",
    "\n",
    "# Load the state dictionary into the model\n",
    "model.load_state_dict(state_dict)\n",
    "\n",
    "# If you have a checkpoint with more information (like optimizer state), use this:\n",
    "checkpoint = torch.load('pretrained_model_checkpoint_200.pth')\n",
    "model.load_state_dict(checkpoint['model_state_dict'])\n",
    "optimizer.load_state_dict(checkpoint['optimizer_state_dict'])\n",
    "start_epoch = checkpoint['epoch']\n",
    "print(start_epoch)"
   ]
  },
  {
   "cell_type": "markdown",
   "id": "87085670-f892-4e89-aa2d-63e2c77f3fec",
   "metadata": {},
   "source": [
    "## Model Training"
   ]
  },
  {
   "cell_type": "code",
   "execution_count": 12,
   "id": "76ac413f-a13a-4d58-bc99-bceb18bb21b0",
   "metadata": {
    "execution": {
     "iopub.execute_input": "2024-06-15T01:19:55.480544Z",
     "iopub.status.busy": "2024-06-15T01:19:55.480313Z",
     "iopub.status.idle": "2024-06-15T11:56:51.518036Z",
     "shell.execute_reply": "2024-06-15T11:56:51.516532Z"
    }
   },
   "outputs": [
    {
     "name": "stderr",
     "output_type": "stream",
     "text": [
      "Epoch 200: 100%|████| 1935/1935 [08:25<00:00,  3.83it/s, loss=0.00274]\n",
      "Epoch 201: 100%|████| 1935/1935 [08:25<00:00,  3.83it/s, loss=0.00277]\n",
      "Epoch 202: 100%|████| 1935/1935 [08:25<00:00,  3.83it/s, loss=0.00268]\n",
      "Epoch 203: 100%|████| 1935/1935 [08:26<00:00,  3.82it/s, loss=0.00292]\n",
      "Epoch 204: 100%|█████| 1935/1935 [08:26<00:00,  3.82it/s, loss=0.0028]\n",
      "Epoch 205: 100%|████| 1935/1935 [08:26<00:00,  3.82it/s, loss=0.00275]\n",
      "Epoch 206: 100%|████| 1935/1935 [08:26<00:00,  3.82it/s, loss=0.00277]\n",
      "Epoch 207: 100%|████| 1935/1935 [08:25<00:00,  3.83it/s, loss=0.00284]\n",
      "Epoch 208: 100%|█████| 1935/1935 [08:26<00:00,  3.82it/s, loss=0.0028]\n",
      "Epoch 209: 100%|████| 1935/1935 [08:25<00:00,  3.82it/s, loss=0.00276]\n",
      "Epoch 210: 100%|████| 1935/1935 [08:26<00:00,  3.82it/s, loss=0.00283]\n",
      "Epoch 211: 100%|█████| 1935/1935 [08:26<00:00,  3.82it/s, loss=0.0028]\n",
      "Epoch 212: 100%|████| 1935/1935 [08:26<00:00,  3.82it/s, loss=0.00269]\n",
      "Epoch 213: 100%|████| 1935/1935 [08:26<00:00,  3.82it/s, loss=0.00283]\n",
      "Epoch 214: 100%|█████| 1935/1935 [08:26<00:00,  3.82it/s, loss=0.0028]\n",
      "Epoch 215: 100%|████| 1935/1935 [08:27<00:00,  3.82it/s, loss=0.00275]\n",
      "Epoch 216: 100%|████| 1935/1935 [08:25<00:00,  3.82it/s, loss=0.00281]\n",
      "Epoch 217: 100%|█████| 1935/1935 [08:25<00:00,  3.83it/s, loss=0.0028]\n",
      "Epoch 218: 100%|████| 1935/1935 [08:27<00:00,  3.81it/s, loss=0.00281]\n",
      "Epoch 219: 100%|████| 1935/1935 [08:26<00:00,  3.82it/s, loss=0.00295]\n",
      "Epoch 220: 100%|████| 1935/1935 [08:26<00:00,  3.82it/s, loss=0.00283]\n",
      "Epoch 221: 100%|████| 1935/1935 [08:26<00:00,  3.82it/s, loss=0.00264]\n",
      "Epoch 222: 100%|████| 1935/1935 [08:26<00:00,  3.82it/s, loss=0.00275]\n",
      "Epoch 223: 100%|████| 1935/1935 [08:27<00:00,  3.81it/s, loss=0.00281]\n",
      "Epoch 224: 100%|████| 1935/1935 [08:26<00:00,  3.82it/s, loss=0.00275]\n",
      "Epoch 225: 100%|████| 1935/1935 [08:25<00:00,  3.83it/s, loss=0.00287]\n",
      "Epoch 226: 100%|████| 1935/1935 [08:26<00:00,  3.82it/s, loss=0.00288]\n",
      "Epoch 227: 100%|█████| 1935/1935 [08:27<00:00,  3.82it/s, loss=0.0028]\n",
      "Epoch 228: 100%|████| 1935/1935 [08:26<00:00,  3.82it/s, loss=0.00286]\n",
      "Epoch 229: 100%|████| 1935/1935 [08:26<00:00,  3.82it/s, loss=0.00277]\n",
      "Epoch 230: 100%|████| 1935/1935 [08:26<00:00,  3.82it/s, loss=0.00288]\n",
      "Epoch 231: 100%|████| 1935/1935 [08:26<00:00,  3.82it/s, loss=0.00281]\n",
      "Epoch 232: 100%|████| 1935/1935 [08:25<00:00,  3.82it/s, loss=0.00271]\n",
      "Epoch 233: 100%|████| 1935/1935 [08:26<00:00,  3.82it/s, loss=0.00285]\n",
      "Epoch 234: 100%|████| 1935/1935 [08:25<00:00,  3.83it/s, loss=0.00279]\n",
      "Epoch 235: 100%|████| 1935/1935 [08:26<00:00,  3.82it/s, loss=0.00285]\n",
      "Epoch 236: 100%|████| 1935/1935 [08:26<00:00,  3.82it/s, loss=0.00282]\n",
      "Epoch 237: 100%|████| 1935/1935 [08:26<00:00,  3.82it/s, loss=0.00278]\n",
      "Epoch 238: 100%|████| 1935/1935 [08:25<00:00,  3.83it/s, loss=0.00285]\n",
      "Epoch 239: 100%|████| 1935/1935 [08:26<00:00,  3.82it/s, loss=0.00282]\n",
      "Epoch 240: 100%|████| 1935/1935 [08:25<00:00,  3.83it/s, loss=0.00281]\n",
      "Epoch 241: 100%|████| 1935/1935 [08:26<00:00,  3.82it/s, loss=0.00277]\n",
      "Epoch 242: 100%|████| 1935/1935 [08:26<00:00,  3.82it/s, loss=0.00279]\n",
      "Epoch 243: 100%|████| 1935/1935 [08:26<00:00,  3.82it/s, loss=0.00281]\n",
      "Epoch 244: 100%|████| 1935/1935 [08:25<00:00,  3.82it/s, loss=0.00271]\n",
      "Epoch 245: 100%|████| 1935/1935 [08:25<00:00,  3.83it/s, loss=0.00274]\n",
      "Epoch 246: 100%|█████| 1935/1935 [08:26<00:00,  3.82it/s, loss=0.0028]\n",
      "Epoch 247: 100%|████| 1935/1935 [08:25<00:00,  3.83it/s, loss=0.00291]\n",
      "Epoch 248: 100%|████| 1935/1935 [08:25<00:00,  3.82it/s, loss=0.00268]\n",
      "Epoch 249: 100%|████| 1935/1935 [08:25<00:00,  3.83it/s, loss=0.00279]\n",
      "Epoch 250: 100%|████| 1935/1935 [08:25<00:00,  3.83it/s, loss=0.00279]\n",
      "Epoch 251: 100%|████| 1935/1935 [08:26<00:00,  3.82it/s, loss=0.00274]\n",
      "Epoch 252: 100%|████| 1935/1935 [08:26<00:00,  3.82it/s, loss=0.00277]\n",
      "Epoch 253: 100%|████| 1935/1935 [08:26<00:00,  3.82it/s, loss=0.00287]\n",
      "Epoch 254: 100%|████| 1935/1935 [08:25<00:00,  3.83it/s, loss=0.00282]\n",
      "Epoch 255: 100%|████| 1935/1935 [08:26<00:00,  3.82it/s, loss=0.00278]\n",
      "Epoch 256: 100%|█████| 1935/1935 [08:26<00:00,  3.82it/s, loss=0.0029]\n",
      "Epoch 257: 100%|████| 1935/1935 [08:25<00:00,  3.83it/s, loss=0.00288]\n",
      "Epoch 258: 100%|████| 1935/1935 [08:25<00:00,  3.82it/s, loss=0.00279]\n",
      "Epoch 259: 100%|████| 1935/1935 [08:26<00:00,  3.82it/s, loss=0.00287]\n",
      "Epoch 260: 100%|████| 1935/1935 [08:26<00:00,  3.82it/s, loss=0.00282]\n",
      "Epoch 261: 100%|████| 1935/1935 [08:26<00:00,  3.82it/s, loss=0.00285]\n",
      "Epoch 262: 100%|████| 1935/1935 [08:25<00:00,  3.83it/s, loss=0.00276]\n",
      "Epoch 263: 100%|████| 1935/1935 [08:26<00:00,  3.82it/s, loss=0.00284]\n",
      "Epoch 264: 100%|████| 1935/1935 [08:26<00:00,  3.82it/s, loss=0.00276]\n",
      "Epoch 265: 100%|████| 1935/1935 [08:26<00:00,  3.82it/s, loss=0.00279]\n",
      "Epoch 266: 100%|████| 1935/1935 [08:25<00:00,  3.82it/s, loss=0.00278]\n",
      "Epoch 267: 100%|████| 1935/1935 [08:25<00:00,  3.82it/s, loss=0.00285]\n",
      "Epoch 268: 100%|█████| 1935/1935 [08:25<00:00,  3.83it/s, loss=0.0028]\n",
      "Epoch 269: 100%|████| 1935/1935 [08:25<00:00,  3.82it/s, loss=0.00287]\n",
      "Epoch 270: 100%|████| 1935/1935 [08:26<00:00,  3.82it/s, loss=0.00272]\n",
      "Epoch 271: 100%|████| 1935/1935 [08:25<00:00,  3.83it/s, loss=0.00274]\n",
      "Epoch 272: 100%|█████| 1935/1935 [08:26<00:00,  3.82it/s, loss=0.0029]\n",
      "Epoch 273: 100%|████| 1935/1935 [08:25<00:00,  3.83it/s, loss=0.00285]\n",
      "Epoch 274: 100%|████| 1935/1935 [08:26<00:00,  3.82it/s, loss=0.00285]\n"
     ]
    },
    {
     "name": "stdout",
     "output_type": "stream",
     "text": [
      "train completed, total time: 38216.025074481964.\n"
     ]
    }
   ],
   "source": [
    "n_epochs = 75\n",
    "val_interval = 25\n",
    "epoch_loss_list = []\n",
    "val_epoch_loss_list = []\n",
    "epoch_loss_list = checkpoint['epoch_loss']\n",
    "val_epoch_loss_list = checkpoint['val_epoch_loss']\n",
    "\n",
    "end_epoch = start_epoch + 1 + n_epochs\n",
    "\n",
    "scaler = GradScaler()\n",
    "total_start = time.time()\n",
    "for epoch in range(start_epoch+1, end_epoch):\n",
    "    model.train()\n",
    "    epoch_loss = 0\n",
    "    progress_bar = tqdm(enumerate(train_loader), total=len(train_loader), ncols=70)\n",
    "    progress_bar.set_description(f\"Epoch {epoch}\")\n",
    "    for step, batch in progress_bar:\n",
    "        images = batch[\"image\"].to(device)\n",
    "        conditions = batch[\"condition\"].to(device)\n",
    "        optimizer.zero_grad(set_to_none=True)\n",
    "\n",
    "        with autocast(enabled=True):\n",
    "            # Generate random noise\n",
    "            noise = torch.randn_like(images).to(device)\n",
    "\n",
    "            # Create timesteps\n",
    "            timesteps = torch.randint(\n",
    "                0, inferer.scheduler.num_train_timesteps, (images.shape[0],), device=images.device\n",
    "            ).long()\n",
    "\n",
    "            # Get model prediction\n",
    "            noise_pred = inferer(inputs=images, diffusion_model=model, noise=noise, timesteps=timesteps, condition=conditions)\n",
    "            loss = F.mse_loss(noise_pred.float(), noise.float())\n",
    "\n",
    "        scaler.scale(loss).backward()\n",
    "        scaler.step(optimizer)\n",
    "        scaler.update()\n",
    "\n",
    "        epoch_loss += loss.item()\n",
    "\n",
    "        progress_bar.set_postfix({\"loss\": epoch_loss / (step + 1)})\n",
    "    epoch_loss_list.append(epoch_loss / (step + 1))\n",
    "\n",
    "    if (epoch + 1) % val_interval == 0:\n",
    "        model.eval()\n",
    "        val_epoch_loss = 0\n",
    "        for step, batch in enumerate(val_loader):\n",
    "            images = batch[\"image\"].to(device)\n",
    "            conditions = batch[\"condition\"].to(device)\n",
    "            with torch.no_grad():\n",
    "                with autocast(enabled=True):\n",
    "                    noise = torch.randn_like(images).to(device)\n",
    "                    timesteps = torch.randint(\n",
    "                        0, inferer.scheduler.num_train_timesteps, (images.shape[0],), device=images.device\n",
    "                    ).long()\n",
    "                    noise_pred = inferer(inputs=images, diffusion_model=model, noise=noise, timesteps=timesteps, condition=conditions)\n",
    "                    val_loss = F.mse_loss(noise_pred.float(), noise.float())\n",
    "\n",
    "            val_epoch_loss += val_loss.item()\n",
    "            progress_bar.set_postfix({\"val_loss\": val_epoch_loss / (step + 1)})\n",
    "        val_epoch_loss_list.append(val_epoch_loss / (step + 1))\n",
    "    \n",
    "    torch.save(model.state_dict(), 'pretrained_model_275.pth')\n",
    "\n",
    "# Optionally save a checkpoint with more information\n",
    "checkpoint = {\n",
    "    'model_state_dict': model.state_dict(),\n",
    "    'optimizer_state_dict': optimizer.state_dict(),\n",
    "    'epoch': epoch,\n",
    "    'epoch_loss': epoch_loss_list,\n",
    "    'val_epoch_loss': val_epoch_loss_list,\n",
    "}\n",
    "torch.save(checkpoint, 'pretrained_model_checkpoint_275.pth')\n",
    "\n",
    "total_time = time.time() - total_start\n",
    "print(f\"train completed, total time: {total_time}.\")"
   ]
  },
  {
   "cell_type": "markdown",
   "id": "99c39685-9192-4f58-9991-14121c823484",
   "metadata": {},
   "source": [
    "## Learning Curves"
   ]
  },
  {
   "cell_type": "code",
   "execution_count": 13,
   "id": "ac036c0d-3ede-4f50-8a25-446f031bfae6",
   "metadata": {
    "execution": {
     "iopub.execute_input": "2024-06-15T11:56:51.524435Z",
     "iopub.status.busy": "2024-06-15T11:56:51.523948Z",
     "iopub.status.idle": "2024-06-15T11:56:51.723594Z",
     "shell.execute_reply": "2024-06-15T11:56:51.723212Z"
    }
   },
   "outputs": [
    {
     "data": {
      "image/png": "[encoded data removed]",
      "text/plain": [
       "<Figure size 800x550 with 1 Axes>"
      ]
     },
     "metadata": {},
     "output_type": "display_data"
    }
   ],
   "source": [
    "plt.style.use(\"seaborn-v0_8\")\n",
    "plt.title(\"Learning Curves\", fontsize=20)\n",
    "plt.plot(np.linspace(1, end_epoch, end_epoch), epoch_loss_list, color=\"C0\", linewidth=2.0, label=\"Train\")\n",
    "plt.plot(\n",
    "    np.linspace(val_interval, end_epoch, int(end_epoch / val_interval)),\n",
    "    val_epoch_loss_list,\n",
    "    color=\"C1\",\n",
    "    linewidth=2.0,\n",
    "    label=\"Validation\",\n",
    ")\n",
    "plt.yticks(fontsize=12)\n",
    "plt.xticks(fontsize=12)\n",
    "plt.xlabel(\"Epochs\", fontsize=16)\n",
    "plt.ylabel(\"Loss\", fontsize=16)\n",
    "plt.legend(prop={\"size\": 14})\n",
    "plt.savefig('Learning_curves_275.png')\n",
    "plt.show()"
   ]
  },
  {
   "cell_type": "markdown",
   "id": "341b70f4-05b1-43b0-88a6-2bd3a2378b64",
   "metadata": {},
   "source": [
    "## Sampling Process With Classifier Free Guidance"
   ]
  },
  {
   "cell_type": "code",
   "execution_count": 14,
   "id": "64f72a45-6c64-4352-b3ea-aa0e9acf5ff0",
   "metadata": {
    "execution": {
     "iopub.execute_input": "2024-06-15T11:56:51.728284Z",
     "iopub.status.busy": "2024-06-15T11:56:51.728049Z",
     "iopub.status.idle": "2024-06-15T12:00:27.245277Z",
     "shell.execute_reply": "2024-06-15T12:00:27.244796Z"
    }
   },
   "outputs": [
    {
     "name": "stderr",
     "output_type": "stream",
     "text": [
      "100%|██████████| 1000/1000 [00:26<00:00, 37.13it/s]\n",
      "100%|██████████| 1000/1000 [00:26<00:00, 37.14it/s]\n",
      "100%|██████████| 1000/1000 [00:26<00:00, 37.10it/s]\n",
      "100%|██████████| 1000/1000 [00:26<00:00, 37.10it/s]\n",
      "100%|██████████| 1000/1000 [00:26<00:00, 37.26it/s]\n",
      "100%|██████████| 1000/1000 [00:26<00:00, 37.30it/s]\n",
      "100%|██████████| 1000/1000 [00:26<00:00, 37.30it/s]\n",
      "100%|██████████| 1000/1000 [00:26<00:00, 37.30it/s]\n"
     ]
    },
    {
     "data": {
      "image/png": "[encoded data removed]",
      "text/plain": [
       "<Figure size 1000x400 with 8 Axes>"
      ]
     },
     "metadata": {},
     "output_type": "display_data"
    }
   ],
   "source": [
    "model.eval()\n",
    "guidance_scale = 7.0\n",
    "\n",
    "condition_set = [[18, 2, 45],\n",
    "                [28, 1, 45],\n",
    "                [38, 2, 45],\n",
    "                [48, 1, 45],\n",
    "                [58, 1, 45],\n",
    "                [68, 1, 45],\n",
    "                [78, 1, 45],\n",
    "                [88, 1, 45]]\n",
    "num_condition = len(condition_set)\n",
    "conditioning = []\n",
    "\n",
    "for case in condition_set:\n",
    "    age, sex, slice_number = case\n",
    "    # Create the conditioning tensors and reshape them to (1, 3)\n",
    "    unconditioned = torch.tensor([[-1, -1, -1]], dtype=torch.float32)  # Shape: (1, 3)\n",
    "    conditioned = torch.tensor([[age, sex, slice_number]], dtype=torch.float32)  # Shape: (1, 3)\n",
    "    conditioning.append(torch.stack([unconditioned, conditioned], dim=0).to(device))\n",
    "\n",
    "noise_cases = []\n",
    "\n",
    "for idx in range(num_condition):\n",
    "    noise = torch.randn((1, 1, 96, 128))\n",
    "    noise = noise.to(device)\n",
    "    scheduler.set_timesteps(num_inference_steps=1000)\n",
    "    progress_bar = tqdm(scheduler.timesteps)\n",
    "    \n",
    "    case_conditioning = conditioning[idx]\n",
    "    for t in progress_bar:\n",
    "        with autocast(enabled=True):\n",
    "            with torch.no_grad():\n",
    "                noise_input = torch.cat([noise] * 2)\n",
    "                model_output = model(noise_input, timesteps=torch.Tensor((t,)).to(noise.device), context=case_conditioning)\n",
    "                noise_pred_uncond, noise_pred_text = model_output.chunk(2)\n",
    "                noise_pred = noise_pred_uncond + guidance_scale * (noise_pred_text - noise_pred_uncond)\n",
    "\n",
    "        noise, _ = scheduler.step(noise_pred, t, noise)\n",
    "    noise_cases.append(noise)\n",
    "\n",
    "    # Save the raw noise image as a PNG file with scaling and grayscale\n",
    "    noise_image = noise_cases[idx][0, 0].cpu().numpy()\n",
    "    # Scale the data to 0-1\n",
    "    noise_image = np.clip(noise_image, 0, 1)\n",
    "    # Convert to 8-bit (0-255)\n",
    "    noise_image = (noise_image * 255).astype(np.uint8)\n",
    "    # Create and save the image using PIL\n",
    "    img = Image.fromarray(noise_image, mode='L')\n",
    "    img.save(f'noise_image_{idx + 1}.png')\n",
    "\n",
    "plt.style.use(\"default\")\n",
    "plt.figure(figsize=(10,4))\n",
    "for i in range(num_condition):\n",
    "    plt.subplot(1, num_condition, i+1)\n",
    "    plt.imshow(noise_cases[i][0, 0].cpu(), vmin=0, vmax=1, cmap=\"gray\")\n",
    "    plt.title(f\"Image {i+1}\")\n",
    "    plt.tight_layout()\n",
    "    plt.axis(\"off\")\n",
    "\n",
    "plt.show()"
   ]
  },
  {
   "cell_type": "markdown",
   "id": "a5ed11e8-d018-46f8-9426-ea69f30c9dc2",
   "metadata": {},
   "source": [
    "## Clean up Data Directory"
   ]
  },
  {
   "cell_type": "code",
   "execution_count": 15,
   "id": "5289d1e2-7ab5-4a2c-a8ae-ec0000ae2be2",
   "metadata": {
    "execution": {
     "iopub.execute_input": "2024-06-15T12:00:27.250035Z",
     "iopub.status.busy": "2024-06-15T12:00:27.249545Z",
     "iopub.status.idle": "2024-06-15T12:00:27.252512Z",
     "shell.execute_reply": "2024-06-15T12:00:27.252126Z"
    }
   },
   "outputs": [],
   "source": [
    "if directory is None:\n",
    "    shutil.rmtree(root_dir)"
   ]
  },
  {
   "cell_type": "code",
   "execution_count": null,
   "id": "5132955b-2a7b-4eca-8d5c-f7bc096e704a",
   "metadata": {},
   "outputs": [],
   "source": []
  }
 ],
 "metadata": {
  "kernelspec": {
   "display_name": "Python 3 (ipykernel)",
   "language": "python",
   "name": "python3"
  },
  "language_info": {
   "codemirror_mode": {
    "name": "ipython",
    "version": 3
   },
   "file_extension": ".py",
   "mimetype": "text/x-python",
   "name": "python",
   "nbconvert_exporter": "python",
   "pygments_lexer": "ipython3",
   "version": "3.11.7"
  }
 },
 "nbformat": 4,
 "nbformat_minor": 5
}
