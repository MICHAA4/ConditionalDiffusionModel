{
 "cells": [
  {
   "cell_type": "markdown",
   "id": "3e213b4b-acd8-4c8d-a2c1-0c696619cac3",
   "metadata": {},
   "source": [
    "## Evaluation Metric"
   ]
  },
  {
   "cell_type": "code",
   "execution_count": 1,
   "id": "a1caf032-a59e-4ea2-9ac4-113fbc3714ee",
   "metadata": {},
   "outputs": [],
   "source": [
    "import os\n",
    "import cv2\n",
    "import torch\n",
    "import shutil\n",
    "import random\n",
    "import tempfile\n",
    "import numpy as np\n",
    "from PIL import Image\n",
    "from skimage import io\n",
    "from pathlib import Path\n",
    "from monai.transforms import LoadImage\n",
    "from pytorch_fid import fid_score\n",
    "from torchvision import transforms\n",
    "from skimage.metrics import structural_similarity as ssim"
   ]
  },
  {
   "cell_type": "markdown",
   "id": "04d541e2-62ad-4d12-9902-c59370a3e524",
   "metadata": {},
   "source": [
    "## FID"
   ]
  },
  {
   "cell_type": "code",
   "execution_count": 5,
   "id": "7879b1a0-a43d-4a68-8962-7ea5eec204ac",
   "metadata": {},
   "outputs": [
    {
     "name": "stdout",
     "output_type": "stream",
     "text": [
      "1800 images copied to ./generated_images/275_3.0_1800\n"
     ]
    }
   ],
   "source": [
    "'''\n",
    "from glob import glob\n",
    "\n",
    "def split_images(src_folder, dest_folder1):\n",
    "    # Create destination folders if they don't exist\n",
    "    os.makedirs(dest_folder1, exist_ok=True)\n",
    "    \n",
    "    # Get list of image files in the source folder\n",
    "    image_files = glob(os.path.join(src_folder, '*.png'))\n",
    "    \n",
    "    # Split the image files list in half\n",
    "    midpoint = 1800\n",
    "    first_half = image_files[:midpoint]\n",
    "    \n",
    "    # Copy first half to the first destination folder\n",
    "    for image_file in first_half:\n",
    "        shutil.copy(image_file, dest_folder1)\n",
    "        \n",
    "    print(f'{len(first_half)} images copied to {dest_folder1}')\n",
    "\n",
    "# Example usage:\n",
    "src_folder = './generated_images/275_3.0'\n",
    "dest_folder1 = './generated_images/275_3.0_1800'\n",
    "\n",
    "split_images(src_folder, dest_folder1)\n",
    "'''"
   ]
  },
  {
   "cell_type": "code",
   "execution_count": 4,
   "id": "a17e082b-de34-476e-9635-68080a4b8948",
   "metadata": {},
   "outputs": [
    {
     "name": "stderr",
     "output_type": "stream",
     "text": [
      "100%|███████████████████████████████████████████| 18/18 [00:01<00:00, 14.61it/s]\n",
      "100%|███████████████████████████████████████████| 18/18 [00:01<00:00, 15.31it/s]\n"
     ]
    },
    {
     "name": "stdout",
     "output_type": "stream",
     "text": [
      "FID real vs real: 0.01383555504658951\n"
     ]
    },
    {
     "name": "stderr",
     "output_type": "stream",
     "text": [
      "100%|███████████████████████████████████████████| 36/36 [00:01<00:00, 20.17it/s]\n",
      "100%|███████████████████████████████████████████| 36/36 [00:01<00:00, 18.32it/s]\n"
     ]
    },
    {
     "name": "stdout",
     "output_type": "stream",
     "text": [
      "FID_7.0 real vs generated: 0.0757485575104413\n"
     ]
    },
    {
     "name": "stderr",
     "output_type": "stream",
     "text": [
      "100%|███████████████████████████████████████████| 36/36 [00:01<00:00, 18.42it/s]\n",
      "100%|███████████████████████████████████████████| 36/36 [00:01<00:00, 19.11it/s]\n"
     ]
    },
    {
     "name": "stdout",
     "output_type": "stream",
     "text": [
      "FID_5.0 real vs generated: 0.03700294057707254\n"
     ]
    },
    {
     "name": "stderr",
     "output_type": "stream",
     "text": [
      "100%|███████████████████████████████████████████| 36/36 [00:01<00:00, 20.55it/s]\n",
      "100%|███████████████████████████████████████████| 36/36 [00:02<00:00, 15.44it/s]\n"
     ]
    },
    {
     "name": "stdout",
     "output_type": "stream",
     "text": [
      "FID_3.0 real vs generated: 0.020240564836413955\n"
     ]
    },
    {
     "name": "stderr",
     "output_type": "stream",
     "text": [
      "100%|███████████████████████████████████████████| 36/36 [00:01<00:00, 19.96it/s]\n",
      "100%|███████████████████████████████████████████| 36/36 [00:03<00:00,  9.50it/s]\n"
     ]
    },
    {
     "name": "stdout",
     "output_type": "stream",
     "text": [
      "FID_1.0 real vs generated: 0.014486460377095611\n"
     ]
    },
    {
     "name": "stderr",
     "output_type": "stream",
     "text": [
      "100%|███████████████████████████████████████████| 36/36 [00:01<00:00, 18.27it/s]\n",
      "100%|███████████████████████████████████████████| 36/36 [00:05<00:00,  6.78it/s]\n"
     ]
    },
    {
     "name": "stdout",
     "output_type": "stream",
     "text": [
      "FID_0.5 real vs generated: 0.014990837080128938\n"
     ]
    },
    {
     "name": "stderr",
     "output_type": "stream",
     "text": [
      "100%|███████████████████████████████████████████| 36/36 [00:01<00:00, 19.96it/s]\n",
      "100%|███████████████████████████████████████████| 36/36 [00:05<00:00,  6.22it/s]\n"
     ]
    },
    {
     "name": "stdout",
     "output_type": "stream",
     "text": [
      "FID_0.0 real vs generated: 0.020649161585681697\n"
     ]
    }
   ],
   "source": [
    "### Real\n",
    "path_real = \"./real_images/275_3.0_1800\"\n",
    "path_real_1 = \"./real_images/275_3.0_900_1\"\n",
    "path_real_2 = \"./real_images/275_3.0_900_2\"\n",
    "fid_value_real_real = fid_score.calculate_fid_given_paths([path_real_1, path_real_2], batch_size=50, device='cuda', dims=768)\n",
    "print(\"FID real vs real:\", fid_value_real_real)\n",
    "\n",
    "### FID 7.0\n",
    "path_generated = \"./generated_images/275_7.0\"\n",
    "fid_value_real_generated = fid_score.calculate_fid_given_paths([path_real, path_generated], batch_size=50, device='cuda', dims=768)\n",
    "print(\"FID_7.0 real vs generated:\", fid_value_real_generated)\n",
    "\n",
    "\n",
    "### FID 5.0\n",
    "path_generated = \"./generated_images/275_5.0\"\n",
    "fid_value_real_generated = fid_score.calculate_fid_given_paths([path_real, path_generated], batch_size=50, device='cuda', dims=768)\n",
    "print(\"FID_5.0 real vs generated:\", fid_value_real_generated)\n",
    "\n",
    "\n",
    "### FID 3.0\n",
    "path_generated = \"./generated_images/275_3.0_1800\"\n",
    "fid_value_real_generated = fid_score.calculate_fid_given_paths([path_real, path_generated], batch_size=50, device='cuda', dims=768)\n",
    "print(\"FID_3.0 real vs generated:\", fid_value_real_generated)\n",
    "\n",
    "\n",
    "### FID 1.0\n",
    "path_generated = \"./generated_images/275_1.0\"\n",
    "fid_value_real_generated = fid_score.calculate_fid_given_paths([path_real, path_generated], batch_size=50, device='cuda', dims=768)\n",
    "print(\"FID_1.0 real vs generated:\", fid_value_real_generated)\n",
    "\n",
    "\n",
    "### FID 0.5\n",
    "path_generated = \"./generated_images/275_0.5\"\n",
    "fid_value_real_generated = fid_score.calculate_fid_given_paths([path_real, path_generated], batch_size=50, device='cuda', dims=768)\n",
    "print(\"FID_0.5 real vs generated:\", fid_value_real_generated)\n",
    "\n",
    "\n",
    "### FID 0.0\n",
    "path_generated = \"./generated_images/275_0.0\"\n",
    "fid_value_real_generated = fid_score.calculate_fid_given_paths([path_real, path_generated], batch_size=50, device='cuda', dims=768)\n",
    "print(\"FID_0.0 real vs generated:\", fid_value_real_generated)"
   ]
  },
  {
   "cell_type": "markdown",
   "id": "bd4a0a66-0489-4753-af14-d2868cb3d666",
   "metadata": {},
   "source": [
    "## SSIM"
   ]
  },
  {
   "cell_type": "code",
   "execution_count": 4,
   "id": "4cd1260e-9711-4c8c-b09b-1ec6c567cb0e",
   "metadata": {},
   "outputs": [],
   "source": [
    "def load_images_from_folder(folder):\n",
    "    images = []\n",
    "    for filename in sorted(os.listdir(folder)):\n",
    "        if filename.endswith('.png'):\n",
    "            file_path = os.path.join(folder, filename)\n",
    "            img = cv2.imread(file_path, 0)\n",
    "            images.append(img)\n",
    "    return images\n",
    "\n",
    "def calculate_ssim(images):\n",
    "    ssim_values = []\n",
    "    image_count = len(images)\n",
    "    \n",
    "    # Generate all possible pairs without replacement\n",
    "    indices = list(range(image_count))\n",
    "    random.shuffle(indices)\n",
    "\n",
    "    for i in range(image_count):\n",
    "        for j in range(i + 1, image_count):\n",
    "            img1 = images[indices[i]]\n",
    "            img2 = images[indices[j]]\n",
    "\n",
    "            # Compute SSIM\n",
    "            ssim_value = ssim(img1, img2, data_range=255)\n",
    "            ssim_values.append(ssim_value)\n",
    "\n",
    "    return ssim_values"
   ]
  },
  {
   "cell_type": "code",
   "execution_count": 5,
   "id": "72a2a086-9a98-40d7-bc58-ab4df34edbd0",
   "metadata": {},
   "outputs": [
    {
     "name": "stdout",
     "output_type": "stream",
     "text": [
      "Average SSIM 7.0 real vs real: 0.547137986599241\n",
      "Average SSIM 7.0 generated vs generated: 0.5142215728290703\n",
      "Average SSIM 5.0 generated vs generated: 0.5310162602974586\n",
      "Average SSIM 3.0 generated vs generated: 0.5468499829217688\n",
      "Average SSIM 1.0 generated vs generated: 0.5508953664838239\n",
      "Average SSIM 0.5 generated vs generated: 0.5615519239241891\n",
      "Average SSIM 0.0 generated vs generated: 0.5590109095769186\n"
     ]
    }
   ],
   "source": [
    "### Real\n",
    "path_real = \"./real_images/275_3.0_1800\"\n",
    "real_images = load_images_from_folder(path_real)\n",
    "ssim_values_real_real = calculate_ssim(real_images)\n",
    "print(\"Average SSIM real vs real:\", np.mean(ssim_values_real_real))\n",
    "\n",
    "\n",
    "### SSIM 7.0\n",
    "path_generated = \"./generated_images/275_7.0\"\n",
    "generated_images = load_images_from_folder(path_generated)\n",
    "ssim_values_gen_gen = calculate_ssim(generated_images)\n",
    "print(\"Average SSIM 7.0 generated vs generated:\", np.mean(ssim_values_gen_gen))\n",
    "\n",
    "\n",
    "### SSIM 5.0\n",
    "path_generated = \"./generated_images/275_5.0\"\n",
    "generated_images = load_images_from_folder(path_generated)\n",
    "ssim_values_gen_gen = calculate_ssim(generated_images)\n",
    "print(\"Average SSIM 5.0 generated vs generated:\", np.mean(ssim_values_gen_gen))\n",
    "\n",
    "\n",
    "### SSIM 3.0\n",
    "path_generated = \"./generated_images/275_3.0_1800\"\n",
    "generated_images = load_images_from_folder(path_generated)\n",
    "ssim_values_gen_gen = calculate_ssim(generated_images)\n",
    "print(\"Average SSIM 3.0 generated vs generated:\", np.mean(ssim_values_gen_gen))\n",
    "\n",
    "\n",
    "### SSIM 1.0\n",
    "path_generated = \"./generated_images/275_1.0\"\n",
    "generated_images = load_images_from_folder(path_generated)\n",
    "ssim_values_gen_gen = calculate_ssim(generated_images)\n",
    "print(\"Average SSIM 1.0 generated vs generated:\", np.mean(ssim_values_gen_gen))\n",
    "\n",
    "\n",
    "### SSIM 0.5\n",
    "path_generated = \"./generated_images/275_0.5\"\n",
    "generated_images = load_images_from_folder(path_generated)\n",
    "ssim_values_gen_gen = calculate_ssim(generated_images)\n",
    "print(\"Average SSIM 0.5 generated vs generated:\", np.mean(ssim_values_gen_gen))\n",
    "\n",
    "\n",
    "### SSIM 0.0\n",
    "path_generated = \"./generated_images/275_0.0\"\n",
    "generated_images = load_images_from_folder(path_generated)\n",
    "ssim_values_gen_gen = calculate_ssim(generated_images)\n",
    "print(\"Average SSIM 0.0 generated vs generated:\", np.mean(ssim_values_gen_gen))"
   ]
  }
 ],
 "metadata": {
  "kernelspec": {
   "display_name": "Python 3 (ipykernel)",
   "language": "python",
   "name": "python3"
  },
  "language_info": {
   "codemirror_mode": {
    "name": "ipython",
    "version": 3
   },
   "file_extension": ".py",
   "mimetype": "text/x-python",
   "name": "python",
   "nbconvert_exporter": "python",
   "pygments_lexer": "ipython3",
   "version": "3.11.7"
  }
 },
 "nbformat": 4,
 "nbformat_minor": 5
}
